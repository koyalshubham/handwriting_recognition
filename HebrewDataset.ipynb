{
 "cells": [
  {
   "cell_type": "code",
   "execution_count": null,
   "metadata": {
    "collapsed": true
   },
   "outputs": [],
   "source": [
    "import numpy as np\n",
    "import matplotlib.pyplot as plt\n",
    "import os\n",
    "import cv2\n",
    "from tqdm import tqdm"
   ]
  },
  {
   "cell_type": "code",
   "execution_count": null,
   "metadata": {
    "collapsed": true
   },
   "outputs": [],
   "source": [
    "DATADIR = \"/Users/neharajendrabaritamboli/Desktop/HR/training\""
   ]
  },
  {
   "cell_type": "code",
   "execution_count": 3,
   "metadata": {},
   "outputs": [
    {
     "data": {
      "text/plain": [
       "'/Users/neharajendrabaritamboli/Desktop/HR/training'"
      ]
     },
     "execution_count": 3,
     "metadata": {},
     "output_type": "execute_result"
    }
   ],
   "source": [
    "DATADIR"
   ]
  },
  {
   "cell_type": "code",
   "execution_count": 4,
   "metadata": {
    "collapsed": true
   },
   "outputs": [],
   "source": [
    "CATEGORIES = [\"Alef\", \"Ayin\", \"Bet\", \"Dalet\", \"Gimel\", \"He\", \"Het\", \"Kaf\", \"Kaf-final\", \"Lamed\", \"Mem\", \"Mem-medial\", \"Nun-final\", \"Nun-Medial\", \"Pe\", \"Pe-final\", \"Qof\", \"Resh\", \"Samekh\", \"Shin\", \"Taw\", \"Tet\", \"Tsadi-final\", \"Tsadi-medial\", \"Waw\", \"Yod\", \"Zayin\"]\n",
    "# category type list."
   ]
  },
  {
   "cell_type": "code",
   "execution_count": 5,
   "metadata": {},
   "outputs": [
    {
     "data": {
      "text/plain": [
       "['Alef',\n",
       " 'Ayin',\n",
       " 'Bet',\n",
       " 'Dalet',\n",
       " 'Gimel',\n",
       " 'He',\n",
       " 'Het',\n",
       " 'Kaf',\n",
       " 'Kaf-final',\n",
       " 'Lamed',\n",
       " 'Mem',\n",
       " 'Mem-medial',\n",
       " 'Nun-final',\n",
       " 'Nun-Medial',\n",
       " 'Pe',\n",
       " 'Pe-final',\n",
       " 'Qof',\n",
       " 'Resh',\n",
       " 'Samekh',\n",
       " 'Shin',\n",
       " 'Taw',\n",
       " 'Tet',\n",
       " 'Tsadi-final',\n",
       " 'Tsadi-medial',\n",
       " 'Waw',\n",
       " 'Yod',\n",
       " 'Zayin']"
      ]
     },
     "execution_count": 5,
     "metadata": {},
     "output_type": "execute_result"
    }
   ],
   "source": [
    "CATEGORIES"
   ]
  },
  {
   "cell_type": "code",
   "execution_count": 6,
   "metadata": {},
   "outputs": [],
   "source": [
    "for category in CATEGORIES:  \n",
    "    path = os.path.join(DATADIR,category)  \n",
    "    for img in os.listdir(path): \n",
    "        img_array = cv2.imread(os.path.join(path,img) ,cv2.IMREAD_GRAYSCALE)  # convert to array\n",
    "        #plt.imshow(img_array, cmap='gray')  \n",
    "        #plt.show()  # display!\n",
    "\n",
    "        #break \n",
    "    #break \n"
   ]
  },
  {
   "cell_type": "code",
   "execution_count": 7,
   "metadata": {},
   "outputs": [],
   "source": [
    "IMG_SIZE = 28"
   ]
  },
  {
   "cell_type": "code",
   "execution_count": 8,
   "metadata": {},
   "outputs": [],
   "source": [
    "def create_training_data():\n",
    "    training_data = []\n",
    "    for category in CATEGORIES:  \n",
    "\n",
    "        path = os.path.join(DATADIR,category)  \n",
    "        class_num = CATEGORIES.index(category)  # get the classification  (0 to 26).\n",
    "\n",
    "        for img in tqdm(os.listdir(path)):  # iterate over each image per category\n",
    "            \n",
    "            try:\n",
    "                \n",
    "                img_array = cv2.imread(os.path.join(path,img) ,cv2.IMREAD_GRAYSCALE)  # convert to array\n",
    "                new_array = cv2.resize(img_array, (IMG_SIZE, IMG_SIZE))  # resize to normalize data size\n",
    "                training_data.append([new_array, class_num])  # add this to our training_data\n",
    "                \n",
    "            except Exception as e:  # in the interest in keeping the output clean...\n",
    "                pass\n",
    "            except OSError as e:\n",
    "                print(\"OSErrroBad img most likely\", e, os.path.join(path,img))\n",
    "            except Exception as e:\n",
    "                print(\"general exception\", e, os.path.join(path,img))\n",
    "    return training_data\n",
    "\n",
    "\n",
    "\n"
   ]
  },
  {
   "cell_type": "code",
   "execution_count": 9,
   "metadata": {},
   "outputs": [
    {
     "name": "stderr",
     "output_type": "stream",
     "text": [
      "100%|██████████| 300/300 [00:00<00:00, 6157.14it/s]\n",
      "100%|██████████| 300/300 [00:00<00:00, 6724.51it/s]\n",
      "100%|██████████| 300/300 [00:00<00:00, 6980.46it/s]\n",
      "100%|██████████| 91/91 [00:00<00:00, 6461.73it/s]\n",
      "100%|██████████| 300/300 [00:00<00:00, 6161.42it/s]\n",
      "100%|██████████| 300/300 [00:00<00:00, 6007.48it/s]\n",
      "100%|██████████| 300/300 [00:00<00:00, 5421.03it/s]\n",
      "100%|██████████| 193/193 [00:00<00:00, 6025.63it/s]\n",
      "100%|██████████| 10/10 [00:00<00:00, 3004.95it/s]\n",
      "100%|██████████| 294/294 [00:00<00:00, 6347.02it/s]\n",
      "100%|██████████| 300/300 [00:00<00:00, 6932.08it/s]\n",
      "100%|██████████| 300/300 [00:00<00:00, 6632.18it/s]\n",
      "100%|██████████| 130/130 [00:00<00:00, 5902.16it/s]\n",
      "100%|██████████| 300/300 [00:00<00:00, 5154.63it/s]\n",
      "100%|██████████| 37/37 [00:00<00:00, 5143.32it/s]\n",
      "100%|██████████| 15/15 [00:00<00:00, 3592.86it/s]\n",
      "100%|██████████| 265/265 [00:00<00:00, 6730.64it/s]\n",
      "100%|██████████| 78/78 [00:00<00:00, 5637.89it/s]\n",
      "100%|██████████| 300/300 [00:00<00:00, 3399.63it/s]\n",
      "100%|██████████| 300/300 [00:00<00:00, 6281.37it/s]\n",
      "100%|██████████| 300/300 [00:00<00:00, 6266.08it/s]\n",
      "100%|██████████| 300/300 [00:00<00:00, 5612.71it/s]\n",
      "100%|██████████| 73/73 [00:00<00:00, 5141.55it/s]\n",
      "100%|██████████| 300/300 [00:00<00:00, 5470.64it/s]\n",
      "100%|██████████| 116/116 [00:00<00:00, 5506.77it/s]\n",
      "100%|██████████| 23/23 [00:00<00:00, 3928.21it/s]\n",
      "100%|██████████| 12/12 [00:00<00:00, 3323.98it/s]\n"
     ]
    }
   ],
   "source": [
    "training_data = create_training_data()"
   ]
  },
  {
   "cell_type": "code",
   "execution_count": 12,
   "metadata": {},
   "outputs": [
    {
     "data": {
      "text/plain": [
       "5537"
      ]
     },
     "execution_count": 12,
     "metadata": {},
     "output_type": "execute_result"
    }
   ],
   "source": [
    "len(training_data)"
   ]
  },
  {
   "cell_type": "code",
   "execution_count": null,
   "metadata": {
    "collapsed": true
   },
   "outputs": [],
   "source": []
  }
 ],
 "metadata": {
  "kernelspec": {
   "display_name": "Python 3",
   "language": "python",
   "name": "python3"
  },
  "language_info": {
   "codemirror_mode": {
    "name": "ipython",
    "version": 3
   },
   "file_extension": ".py",
   "mimetype": "text/x-python",
   "name": "python",
   "nbconvert_exporter": "python",
   "pygments_lexer": "ipython3",
   "version": "3.6.8"
  }
 },
 "nbformat": 4,
 "nbformat_minor": 2
}
